{
 "cells": [
  {
   "cell_type": "markdown",
   "metadata": {},
   "source": [
    "# Using Classification Modeling and Reddit to Find Emotive Words"
   ]
  },
  {
   "cell_type": "markdown",
   "metadata": {},
   "source": [
    "## Problem Statement"
   ]
  },
  {
   "cell_type": "markdown",
   "metadata": {},
   "source": [
    "As complex platforms provide online communities for many individuals and societies manipulation and propaganda has become an ever increasing problem. This project aims to begin the process of better understanding the meaning of words and their effectiveness in conveying emotion. We focus on emotion as the current consensus on human decision making is that emotions is more persuasive than logic. This does not mean that logic is worthless or unnecessary but that it is more effective to use emotional persuasion which is supported by logic. [source 1](https://www.ncbi.nlm.nih.gov/pmc/articles/PMC4050437/) [source 2](https://customerthink.com/neuroscience-confirms-we-buy-on-emotion-justify-with-logic-yet-we-sell-to-mr-rational-ignore-mr-intuitive/)\n",
    "\n",
    "In order to begin understanding emotions in words our first step is to create a list of words that convey emotion. To attempt to do this we will use classification models and natural language processing to find words that help separate bodies of text from two very distinct subreddits, [/r/AskPhysics](https://www.reddit.com/r/AskPhysics/) and [/r/Poetry](https://www.reddit.com/r/Poetry/). Most submissions on the /r/AskPhysics subreddit are purely related to understanding concepts in physics and therefore are, for the most part, devoid of emotions. Poetry on the other hand often requires the use of a few words to convey complex feelings. Additionally, /r/Poetry includes tagging on submissions that allow us to only select submissions that have been tagged poems.\n",
    "\n",
    "Using Classification Modeling we will try to create a high scoring model, accuracy, that we can then pull feature names (words) and feature importance. Then using feature importance we will select words that most influence the classification model and check if these words convey emotion. Then for lack of a better method, we will see if the results are intuitive."
   ]
  },
  {
   "cell_type": "markdown",
   "metadata": {
    "ExecuteTime": {
     "end_time": "2021-05-07T15:56:16.671549Z",
     "start_time": "2021-05-07T15:56:16.668548Z"
    }
   },
   "source": [
    "## Content\n",
    "- [Background](#Background)\n",
    "- [Setup](#Setup)\n",
    "- [Data Collection](#Data-Collection)\n",
    "- [Data Cleaning](#Data-Cleaning)\n",
    "- [Exploratory Data Analysis](#Exploratory-Data-Analysis)\n",
    "- [Classification Modeling](#Classification-Modeling)\n",
    "- [Evaluating Features](#Evaluating-Features)\n",
    "- [Results & Conclusion](#Results-&-Conclusion)"
   ]
  },
  {
   "cell_type": "markdown",
   "metadata": {},
   "source": [
    "## Background"
   ]
  },
  {
   "cell_type": "markdown",
   "metadata": {},
   "source": [
    "Machine learning and emotional recognition is very difficult, however, in recent years there has been a [heavy focus on sentiment analysis](https://link.springer.com/article/10.1007/s10462-021-09973-3). This has become an ever increasing need as there have been high profile issues within online communities in regards to manipulation and emotion. Some examples being Facebook and Cambridge Analytica and the United States elections and foreign actors within the twitter ad space.\n",
    "\n",
    "In marketing the consensus opinion is that emotions trump logic. This does not mean that logic is useless but that emotion is often more important than logic when trying to convince consumers to purchase a product. This does not mean, however, that emotion lacks logic or is a poor method of decision making. The current opinions seem to be that emotion is a very complicated system that encompasses intuition and enormous amounts of data processing.\n",
    "\n",
    "Sources/Literature on Emotions:\n",
    "* [effect of emotions on logic](https://www.ncbi.nlm.nih.gov/pmc/articles/PMC4050437/)\n",
    "* [emotion and jury deliberation](https://papers.ssrn.com/sol3/papers.cfm?abstract_id=2416818)\n",
    "* [emotion and b2b sales](https://www.b2bmarketing.net/en/resources/blog/why-b2b-marketing-needs-emotional-storytelling)\n",
    "* [emotion and marketing 1](https://customerthink.com/neuroscience-confirms-we-buy-on-emotion-justify-with-logic-yet-we-sell-to-mr-rational-ignore-mr-intuitive/)\n",
    "* [emotion and marketing 2](https://www.mycustomer.com/marketing/strategy/how-research-proves-emotion-is-more-powerful-than-logic-in-marketing)\n",
    "\n",
    "Reddit:\n",
    "\n",
    "Reddit is a platform that has created a multitude of communities. Many of these communities are built on visual media, however, some communities such as /r/askscience or /r/history are heavily text based. Additionally, most subreddits, at least the popular ones, are moderated to some degree, we assume heavily."
   ]
  },
  {
   "cell_type": "markdown",
   "metadata": {
    "ExecuteTime": {
     "end_time": "2021-05-19T23:55:26.915917Z",
     "start_time": "2021-05-19T23:55:26.898914Z"
    }
   },
   "source": [
    "## Setup"
   ]
  },
  {
   "cell_type": "code",
   "execution_count": 1,
   "metadata": {
    "ExecuteTime": {
     "end_time": "2021-05-21T16:49:22.520254Z",
     "start_time": "2021-05-21T16:49:18.533257Z"
    }
   },
   "outputs": [],
   "source": [
    "import datetime\n",
    "import random\n",
    "import time\n",
    "import requests\n",
    "import pandas as pd\n",
    "import numpy as np\n",
    "import matplotlib.pyplot as plt\n",
    "import sklearn.metrics as metrics\n",
    "\n",
    "from nltk.stem import PorterStemmer, WordNetLemmatizer\n",
    "from sklearn.ensemble import (AdaBoostClassifier,\n",
    "                              GradientBoostingClassifier,\n",
    "                              RandomForestClassifier,\n",
    "                              VotingClassifier,)\n",
    "from sklearn.feature_extraction.text import CountVectorizer, TfidfVectorizer\n",
    "from sklearn.model_selection import (train_test_split,\n",
    "                                     GridSearchCV,)\n",
    "from sklearn.pipeline import Pipeline\n",
    "from sklearn.tree import DecisionTreeClassifier\n",
    "from spacy.lang.en import English\n",
    "\n",
    "%matplotlib inline"
   ]
  },
  {
   "cell_type": "markdown",
   "metadata": {
    "ExecuteTime": {
     "end_time": "2021-05-07T15:59:31.232980Z",
     "start_time": "2021-05-07T15:59:31.225978Z"
    }
   },
   "source": [
    "### Functions"
   ]
  },
  {
   "cell_type": "code",
   "execution_count": 2,
   "metadata": {
    "ExecuteTime": {
     "end_time": "2021-05-21T16:49:22.536257Z",
     "start_time": "2021-05-21T16:49:22.521255Z"
    }
   },
   "outputs": [],
   "source": [
    "# PushShift\n",
    "def get_submissions(subreddit, n=5_000, sleep=1):\n",
    "    \"\"\"\n",
    "    Uses pushshift api to get submissions from a subreddit.\n",
    "    :param subreddit: Name of subreddit, string.\n",
    "    :param n: Get at least n submissions. Optional, default: 5_000.\n",
    "    :param sleep: Delay between each api request.\n",
    "    :return: pandas DataFrame.\n",
    "    \"\"\"\n",
    "    params = {\n",
    "        'subreddit': subreddit,\n",
    "        'size': 100  # 100 is the max size\n",
    "    }\n",
    "    attempts = 0  # count to limit if successful requests returns nothing\n",
    "    all_submissions = []  # list of result data from pushshift\n",
    "    while len(all_submissions) < n and attempts < 2 * n / 100:\n",
    "        res = requests.get('https://api.pushshift.io/reddit/search/submission',\n",
    "                           params)\n",
    "        attempts += 1\n",
    "        if res.status_code == 200:\n",
    "            submissions = res.json()['data']\n",
    "            if submissions:\n",
    "                all_submissions += submissions\n",
    "                # do not want duplicate data\n",
    "                params['before'] = min([submission['created_utc'] \n",
    "                                        for submission in submissions])\n",
    "        time.sleep(sleep)\n",
    "    return pd.DataFrame(all_submissions)"
   ]
  },
  {
   "cell_type": "code",
   "execution_count": 3,
   "metadata": {
    "ExecuteTime": {
     "end_time": "2021-05-21T16:49:22.552261Z",
     "start_time": "2021-05-21T16:49:22.537259Z"
    }
   },
   "outputs": [],
   "source": [
    "# Data Cleaning\n",
    "def clean_submission_df(df_o):\n",
    "    \"\"\"\n",
    "    Takes DataFrame and drops na values, duplicates, empty 'selftext' columns,\n",
    "    and pinned content.\n",
    "    :param df_o: pandas Dataframe to clean.\n",
    "    :return: pandas DataFrame.\n",
    "    \"\"\"\n",
    "    df_ = df_o.copy()\n",
    "    df_.dropna(inplace=True)  # cannot fix na values of selftext\n",
    "    df_.drop_duplicates(subset=['id'], inplace=True)  # init check\n",
    "    df_ = df_[~df_['selftext'].isin(['[deleted]', '[removed]'])]\n",
    "    df_ = df_[~df_['pinned']]  # pinned content is most likely rules/faq/etc\n",
    "    return df_\n",
    "\n",
    "\n",
    "# cleans text using all cleaning functions\n",
    "def clean_text(X, word_list=[]):\n",
    "    # order is very important\n",
    "    X = replace_url(X)\n",
    "    X = replace_amp(X)\n",
    "    X = replace_nbsp(X)\n",
    "    X = replace_newline(X)\n",
    "    X = replace_nonalpha(X)\n",
    "    X = replace_small_words(X)\n",
    "    X = remove_words(X, word_list)\n",
    "    return X\n",
    "\n",
    "\n",
    "def replace_url(X):\n",
    "    return X.str.replace('http\\S+|www.\\S+', '', case=False)  # ref 1\n",
    "\n",
    "\n",
    "def replace_amp(X):\n",
    "    return X.str.replace('&amp;', ' ', regex=False)\n",
    "\n",
    "\n",
    "def replace_nbsp(X):\n",
    "    return X.str.replace('nbsp;', ' ', regex=False)\n",
    "\n",
    "\n",
    "def replace_newline(X):\n",
    "    return X.str.replace('\\n', ' ', regex=False)\n",
    "\n",
    "\n",
    "def replace_nonalpha(X):\n",
    "    return X.str.replace('[^a-zA-Z ]', ' ')  # ref 2 \n",
    "\n",
    "\n",
    "def replace_small_words(X):\n",
    "    return X.str.replace(r'\\b[a-zA-Z]{1,3}\\b', '')  # ref 3\n",
    "\n",
    "\n",
    "def remove_words(X, words=[]):\n",
    "    for word in words:\n",
    "        X = X.str.replace(word, '')\n",
    "    return X\n",
    "\n",
    "# 1) https://stackoverflow.com/questions/45395676/remove-a-url-row-by-row-from-a-large-set-of-text-in-python-panda-dataframe\n",
    "# 2) https://stackoverflow.com/questions/3210393/how-do-i-remove-all-non-alphanumeric-characters-from-a-string-except-dash\n",
    "# 3) https://stackoverflow.com/questions/24463814/php-regex-remove-words-less-than-3-characters/24463828"
   ]
  },
  {
   "cell_type": "code",
   "execution_count": 4,
   "metadata": {
    "ExecuteTime": {
     "end_time": "2021-05-21T16:49:22.567771Z",
     "start_time": "2021-05-21T16:49:22.553262Z"
    }
   },
   "outputs": [],
   "source": [
    "# stem series of text\n",
    "def stem_X(X):\n",
    "    nlp = English()\n",
    "    stemmer = PorterStemmer()\n",
    "    return [' '.join([stemmer.stem(w.text) for w in nlp(t)]) \n",
    "            for t in X]\n",
    "    \n",
    "\n",
    "# lemmatize a series of text\n",
    "def lemmatize_X(X):\n",
    "    nlp = English()\n",
    "    lemmatizer = WordNetLemmatizer()\n",
    "    return [' '.join([lemmatizer.lemmatize(w.text) for w in nlp(t)]) \n",
    "                for t in X]\n",
    "\n",
    "\n",
    "# print grid search scores\n",
    "def print_gs(gs, X_train, X_test, y_train, y_test):\n",
    "    print('Training Score: ', gs.score(X_train_lem, y_train_lem))\n",
    "    print('Cross Val Score: ', gs.best_score_)\n",
    "    print('Test Score: ', gs.score(X_test_lem, y_test_lem))\n",
    "    print('Best Params: ', gs.best_params_ )"
   ]
  },
  {
   "cell_type": "markdown",
   "metadata": {},
   "source": [
    "### Pipelines"
   ]
  },
  {
   "cell_type": "code",
   "execution_count": 5,
   "metadata": {
    "ExecuteTime": {
     "end_time": "2021-05-21T16:49:22.583775Z",
     "start_time": "2021-05-21T16:49:22.568773Z"
    }
   },
   "outputs": [],
   "source": [
    "# pipelines to be used for modeling and in grid searching\n",
    "pipe_ada = Pipeline([\n",
    "    ('tfidf', TfidfVectorizer(stop_words='english')),\n",
    "    ('ada', AdaBoostClassifier())\n",
    "])\n",
    "\n",
    "pipe_gb = Pipeline([\n",
    "    ('tfidf', TfidfVectorizer(stop_words='english')),\n",
    "    ('gb', GradientBoostingClassifier())\n",
    "])\n",
    "\n",
    "pipe_rf = Pipeline([\n",
    "    ('tfidf', TfidfVectorizer(stop_words='english')),\n",
    "    ('rf', RandomForestClassifier(n_jobs=-1))\n",
    "])\n",
    "\n",
    "pipe_tree = Pipeline([\n",
    "    ('tfidf', TfidfVectorizer(stop_words='english')),\n",
    "    ('tree', DecisionTreeClassifier())\n",
    "])"
   ]
  },
  {
   "cell_type": "markdown",
   "metadata": {},
   "source": [
    "## Data Collection"
   ]
  },
  {
   "cell_type": "markdown",
   "metadata": {},
   "source": [
    "### Pushshift\n",
    "\n",
    "Pull data and store in csvs."
   ]
  },
  {
   "cell_type": "markdown",
   "metadata": {},
   "source": [
    "**Commented out to prevent overwriting of data & addition wait time on load**"
   ]
  },
  {
   "cell_type": "code",
   "execution_count": 6,
   "metadata": {
    "ExecuteTime": {
     "end_time": "2021-05-21T16:49:22.599020Z",
     "start_time": "2021-05-21T16:49:22.584776Z"
    }
   },
   "outputs": [],
   "source": [
    "# df = get_submissions('poetry', n=15_000)  # less usable data\n",
    "# df.to_csv('./data/poetry.csv', index=False)"
   ]
  },
  {
   "cell_type": "code",
   "execution_count": 7,
   "metadata": {
    "ExecuteTime": {
     "end_time": "2021-05-21T16:49:22.614686Z",
     "start_time": "2021-05-21T16:49:22.600021Z"
    }
   },
   "outputs": [],
   "source": [
    "# df = get_submissions('AskPhysics')\n",
    "# df.to_csv('./data/askphysics.csv', index=False)"
   ]
  },
  {
   "cell_type": "markdown",
   "metadata": {},
   "source": [
    "## Data Cleaning"
   ]
  },
  {
   "cell_type": "code",
   "execution_count": 8,
   "metadata": {
    "ExecuteTime": {
     "end_time": "2021-05-21T16:49:22.965700Z",
     "start_time": "2021-05-21T16:49:22.616687Z"
    }
   },
   "outputs": [
    {
     "name": "stderr",
     "output_type": "stream",
     "text": [
      "C:\\Users\\Sam\\anaconda3\\lib\\site-packages\\IPython\\core\\interactiveshell.py:3146: DtypeWarning: Columns (80) have mixed types.Specify dtype option on import or set low_memory=False.\n",
      "  has_raised = await self.run_ast_nodes(code_ast.body, cell_name,\n"
     ]
    }
   ],
   "source": [
    "# load the data\n",
    "askphysics_df = pd.read_csv('./data/askphysics.csv')\n",
    "poetry_df = pd.read_csv('./data/poetry.csv')"
   ]
  },
  {
   "cell_type": "code",
   "execution_count": 9,
   "metadata": {
    "ExecuteTime": {
     "end_time": "2021-05-21T16:49:22.981703Z",
     "start_time": "2021-05-21T16:49:22.967701Z"
    }
   },
   "outputs": [
    {
     "data": {
      "text/plain": [
       "((5000, 72), (15000, 81))"
      ]
     },
     "execution_count": 9,
     "metadata": {},
     "output_type": "execute_result"
    }
   ],
   "source": [
    "askphysics_df.shape, poetry_df.shape"
   ]
  },
  {
   "cell_type": "markdown",
   "metadata": {},
   "source": [
    "Check columns that are in both datasets."
   ]
  },
  {
   "cell_type": "code",
   "execution_count": 10,
   "metadata": {
    "ExecuteTime": {
     "end_time": "2021-05-21T16:49:22.997707Z",
     "start_time": "2021-05-21T16:49:22.982703Z"
    },
    "scrolled": true
   },
   "outputs": [
    {
     "data": {
      "text/plain": [
       "{'all_awardings',\n",
       " 'allow_live_comments',\n",
       " 'author',\n",
       " 'author_cakeday',\n",
       " 'author_flair_background_color',\n",
       " 'author_flair_css_class',\n",
       " 'author_flair_richtext',\n",
       " 'author_flair_template_id',\n",
       " 'author_flair_text',\n",
       " 'author_flair_text_color',\n",
       " 'author_flair_type',\n",
       " 'author_fullname',\n",
       " 'author_patreon_flair',\n",
       " 'author_premium',\n",
       " 'awarders',\n",
       " 'banned_by',\n",
       " 'can_mod_post',\n",
       " 'contest_mode',\n",
       " 'created_utc',\n",
       " 'crosspost_parent',\n",
       " 'crosspost_parent_list',\n",
       " 'domain',\n",
       " 'edited',\n",
       " 'full_link',\n",
       " 'gallery_data',\n",
       " 'gilded',\n",
       " 'gildings',\n",
       " 'id',\n",
       " 'is_crosspostable',\n",
       " 'is_gallery',\n",
       " 'is_meta',\n",
       " 'is_original_content',\n",
       " 'is_reddit_media_domain',\n",
       " 'is_robot_indexable',\n",
       " 'is_self',\n",
       " 'is_video',\n",
       " 'link_flair_background_color',\n",
       " 'link_flair_css_class',\n",
       " 'link_flair_richtext',\n",
       " 'link_flair_template_id',\n",
       " 'link_flair_text',\n",
       " 'link_flair_text_color',\n",
       " 'link_flair_type',\n",
       " 'locked',\n",
       " 'media',\n",
       " 'media_embed',\n",
       " 'media_metadata',\n",
       " 'media_only',\n",
       " 'no_follow',\n",
       " 'num_comments',\n",
       " 'num_crossposts',\n",
       " 'over_18',\n",
       " 'parent_whitelist_status',\n",
       " 'permalink',\n",
       " 'pinned',\n",
       " 'poll_data',\n",
       " 'post_hint',\n",
       " 'preview',\n",
       " 'pwls',\n",
       " 'removed_by_category',\n",
       " 'retrieved_on',\n",
       " 'score',\n",
       " 'secure_media',\n",
       " 'secure_media_embed',\n",
       " 'selftext',\n",
       " 'send_replies',\n",
       " 'spoiler',\n",
       " 'stickied',\n",
       " 'subreddit',\n",
       " 'subreddit_id',\n",
       " 'subreddit_subscribers',\n",
       " 'subreddit_type',\n",
       " 'thumbnail',\n",
       " 'thumbnail_height',\n",
       " 'thumbnail_width',\n",
       " 'title',\n",
       " 'total_awards_received',\n",
       " 'treatment_tags',\n",
       " 'upvote_ratio',\n",
       " 'url',\n",
       " 'url_overridden_by_dest',\n",
       " 'whitelist_status',\n",
       " 'wls'}"
      ]
     },
     "execution_count": 10,
     "metadata": {},
     "output_type": "execute_result"
    }
   ],
   "source": [
    "set(askphysics_df.columns) | set(poetry_df.columns)"
   ]
  },
  {
   "cell_type": "code",
   "execution_count": 11,
   "metadata": {
    "ExecuteTime": {
     "end_time": "2021-05-21T16:49:23.013700Z",
     "start_time": "2021-05-21T16:49:22.998706Z"
    }
   },
   "outputs": [],
   "source": [
    "# select columns of interest\n",
    "cols = ['id', 'created_utc', 'num_comments', 'pinned', 'score', 'title', \n",
    "        'selftext', 'subreddit']"
   ]
  },
  {
   "cell_type": "markdown",
   "metadata": {},
   "source": [
    "### Cleaning before Concatenating Subreddits\n",
    "\n",
    "Want to make sure we end up with a relatively balanced dataset. Some cleaning is different between the subreddits."
   ]
  },
  {
   "cell_type": "code",
   "execution_count": 12,
   "metadata": {
    "ExecuteTime": {
     "end_time": "2021-05-21T16:49:23.029704Z",
     "start_time": "2021-05-21T16:49:23.014700Z"
    }
   },
   "outputs": [],
   "source": [
    "askphysics_df = askphysics_df[cols]\n",
    "poetry_df = poetry_df[cols]"
   ]
  },
  {
   "cell_type": "code",
   "execution_count": 13,
   "metadata": {
    "ExecuteTime": {
     "end_time": "2021-05-21T16:49:23.045708Z",
     "start_time": "2021-05-21T16:49:23.030704Z"
    }
   },
   "outputs": [
    {
     "data": {
      "text/plain": [
       "id                0\n",
       "created_utc       0\n",
       "num_comments      0\n",
       "pinned            0\n",
       "score             0\n",
       "title             0\n",
       "selftext        415\n",
       "subreddit         0\n",
       "dtype: int64"
      ]
     },
     "execution_count": 13,
     "metadata": {},
     "output_type": "execute_result"
    }
   ],
   "source": [
    "askphysics_df.isna().sum()"
   ]
  },
  {
   "cell_type": "code",
   "execution_count": 14,
   "metadata": {
    "ExecuteTime": {
     "end_time": "2021-05-21T16:49:23.061711Z",
     "start_time": "2021-05-21T16:49:23.046708Z"
    }
   },
   "outputs": [
    {
     "data": {
      "text/plain": [
       "id                 0\n",
       "created_utc        0\n",
       "num_comments       0\n",
       "pinned             0\n",
       "score              0\n",
       "title              0\n",
       "selftext        3269\n",
       "subreddit          0\n",
       "dtype: int64"
      ]
     },
     "execution_count": 14,
     "metadata": {},
     "output_type": "execute_result"
    }
   ],
   "source": [
    "poetry_df.isna().sum()"
   ]
  },
  {
   "cell_type": "code",
   "execution_count": 15,
   "metadata": {
    "ExecuteTime": {
     "end_time": "2021-05-21T16:49:23.077714Z",
     "start_time": "2021-05-21T16:49:23.062711Z"
    }
   },
   "outputs": [
    {
     "data": {
      "text/plain": [
       "[deleted]                                                                                                                                                                                                                                                                                                                                                                                                                                                                                                                                                                                                                                                                                                                                                                                                                                                                                                                                                                                                                                                                                             110\n",
       "[removed]                                                                                                                                                                                                                                                                                                                                                                                                                                                                                                                                                                                                                                                                                                                                                                                                                                                                                                                                                                                                                                                                                              97\n",
       "1. A sphere, with a mass *M* and a radius *R*, rolls down a ramp that makes an angle θ with the horizontal. The moment of inertia of the sphere is 25 𝑀𝑅2. The sphere rolls without slipping.\\n\\n1. On the diagram below, draw and label all the forces (not components) acting on the wheel as it rolls. Clearly indicate at which point on the sphere the force is acting.\\n2. As the sphere rolls down the ramp, which force causes a change in its angular velocity with respect to its center of mass? Briefly explain your reasoning.\\n3. In terms of *M, R, θ*, and fundamental constants, determine the minimum force of friction necessary to keep the sphere rolling without slipping.\\n4. In terms of *M, R, θ*, and fundamental constants, determine the acceleration of the sphere.\\n5. The sphere is now replaced with a cylinder of the same mass and radius. Will the cylinder have an acceleration greater than, less than, or equal to the acceleration of the sphere?  \\n\\_\\_\\_\\_\\_\\_ Greater than \\_\\_\\_\\_\\_\\_ Less than \\_\\_\\_\\_\\_\\_ The same Briefly explain your reasoning.      3\n",
       "Name: selftext, dtype: int64"
      ]
     },
     "execution_count": 15,
     "metadata": {},
     "output_type": "execute_result"
    }
   ],
   "source": [
    "askphysics_df['selftext'].value_counts()[:3]"
   ]
  },
  {
   "cell_type": "code",
   "execution_count": 16,
   "metadata": {
    "ExecuteTime": {
     "end_time": "2021-05-21T16:49:23.109235Z",
     "start_time": "2021-05-21T16:49:23.078714Z"
    }
   },
   "outputs": [
    {
     "data": {
      "text/plain": [
       "[removed]                                                                                                                                                                                                                                                                                                                                                                                                                                                                                                                                                                                                                                                                                                                                                                                                                                                           4912\n",
       "[deleted]                                                                                                                                                                                                                                                                                                                                                                                                                                                                                                                                                                                                                                                                                                                                                                                                                                                            300\n",
       "Life is short, though I keep this from my children.\\n\\nLife is short, and I’ve shortened mine\\n\\nin a thousand delicious, ill-advised ways,\\n\\na thousand deliciously ill-advised ways\\n\\nI’ll keep from my children. The world is at least\\n\\nfifty percent terrible, and that’s a conservative\\n\\nestimate, though I keep this from my children.\\n\\nFor every bird there is a stone thrown at a bird.\\n\\nFor every loved child, a child broken, bagged,\\n\\nsunk in a lake. Life is short and the world\\n\\nis at least half terrible, and for every kind\\n\\nstranger, there is one who would break you,\\n\\nthough I keep this from my children. I am trying\\n\\nto sell them the world. Any decent realtor,\\n\\nwalking you through a real shithole, chirps on\\n\\nabout good bones: This place could be beautiful,\\n\\nright? You could make this place beautiful.       4\n",
       "Name: selftext, dtype: int64"
      ]
     },
     "execution_count": 16,
     "metadata": {},
     "output_type": "execute_result"
    }
   ],
   "source": [
    "poetry_df['selftext'].value_counts()[:3]"
   ]
  },
  {
   "cell_type": "markdown",
   "metadata": {},
   "source": [
    "**Cleaning to perform:**\n",
    "* drop duplicates\n",
    "* drop na values\n",
    "* remove '[deleted]' and '[removed]' values from 'selftext' column\n",
    "* drop pinned submissions"
   ]
  },
  {
   "cell_type": "code",
   "execution_count": 17,
   "metadata": {
    "ExecuteTime": {
     "end_time": "2021-05-21T16:49:23.156717Z",
     "start_time": "2021-05-21T16:49:23.110237Z"
    }
   },
   "outputs": [],
   "source": [
    "askphysics_df = clean_submission_df(askphysics_df)\n",
    "poetry_df = clean_submission_df(poetry_df)\n",
    "\n",
    "# poem submissions are prefaced with a '[POEM]' in the title\n",
    "# specific only to /r/Poetry\n",
    "poetry_df = poetry_df[poetry_df['title'].str.contains('[POEM]', regex=False)]"
   ]
  },
  {
   "cell_type": "code",
   "execution_count": 18,
   "metadata": {
    "ExecuteTime": {
     "end_time": "2021-05-21T16:49:23.172249Z",
     "start_time": "2021-05-21T16:49:23.157719Z"
    }
   },
   "outputs": [
    {
     "data": {
      "text/plain": [
       "((4378, 8), (4320, 8))"
      ]
     },
     "execution_count": 18,
     "metadata": {},
     "output_type": "execute_result"
    }
   ],
   "source": [
    "askphysics_df.shape, poetry_df.shape"
   ]
  },
  {
   "cell_type": "markdown",
   "metadata": {},
   "source": [
    "**Combine data into one DataFrame**"
   ]
  },
  {
   "cell_type": "code",
   "execution_count": 19,
   "metadata": {
    "ExecuteTime": {
     "end_time": "2021-05-21T16:49:23.188246Z",
     "start_time": "2021-05-21T16:49:23.173250Z"
    }
   },
   "outputs": [],
   "source": [
    "df = pd.concat([askphysics_df, poetry_df], ignore_index=True)"
   ]
  },
  {
   "cell_type": "code",
   "execution_count": 20,
   "metadata": {
    "ExecuteTime": {
     "end_time": "2021-05-21T16:49:23.348282Z",
     "start_time": "2021-05-21T16:49:23.189247Z"
    }
   },
   "outputs": [],
   "source": [
    "# check balance of target\n",
    "df['subreddit'].value_counts(normalize=True)\n",
    "df.to_csv('./data/submissions.csv', index=False)"
   ]
  },
  {
   "cell_type": "markdown",
   "metadata": {},
   "source": [
    "### Cleaning after Concatenating Subreddits"
   ]
  },
  {
   "cell_type": "code",
   "execution_count": 21,
   "metadata": {
    "ExecuteTime": {
     "end_time": "2021-05-21T16:49:23.364287Z",
     "start_time": "2021-05-21T16:49:23.349282Z"
    }
   },
   "outputs": [
    {
     "name": "stdout",
     "output_type": "stream",
     "text": [
      "<class 'pandas.core.frame.DataFrame'>\n",
      "RangeIndex: 8698 entries, 0 to 8697\n",
      "Data columns (total 8 columns):\n",
      " #   Column        Non-Null Count  Dtype \n",
      "---  ------        --------------  ----- \n",
      " 0   id            8698 non-null   object\n",
      " 1   created_utc   8698 non-null   int64 \n",
      " 2   num_comments  8698 non-null   int64 \n",
      " 3   pinned        8698 non-null   bool  \n",
      " 4   score         8698 non-null   int64 \n",
      " 5   title         8698 non-null   object\n",
      " 6   selftext      8698 non-null   object\n",
      " 7   subreddit     8698 non-null   object\n",
      "dtypes: bool(1), int64(3), object(4)\n",
      "memory usage: 484.3+ KB\n"
     ]
    }
   ],
   "source": [
    "df.info()"
   ]
  },
  {
   "cell_type": "code",
   "execution_count": 22,
   "metadata": {
    "ExecuteTime": {
     "end_time": "2021-05-21T16:49:23.380289Z",
     "start_time": "2021-05-21T16:49:23.365286Z"
    }
   },
   "outputs": [
    {
     "data": {
      "text/html": [
       "<div>\n",
       "<style scoped>\n",
       "    .dataframe tbody tr th:only-of-type {\n",
       "        vertical-align: middle;\n",
       "    }\n",
       "\n",
       "    .dataframe tbody tr th {\n",
       "        vertical-align: top;\n",
       "    }\n",
       "\n",
       "    .dataframe thead th {\n",
       "        text-align: right;\n",
       "    }\n",
       "</style>\n",
       "<table border=\"1\" class=\"dataframe\">\n",
       "  <thead>\n",
       "    <tr style=\"text-align: right;\">\n",
       "      <th></th>\n",
       "      <th>id</th>\n",
       "      <th>created_utc</th>\n",
       "      <th>num_comments</th>\n",
       "      <th>pinned</th>\n",
       "      <th>score</th>\n",
       "      <th>title</th>\n",
       "      <th>selftext</th>\n",
       "      <th>subreddit</th>\n",
       "    </tr>\n",
       "  </thead>\n",
       "  <tbody>\n",
       "    <tr>\n",
       "      <th>0</th>\n",
       "      <td>ngqojf</td>\n",
       "      <td>1621484843</td>\n",
       "      <td>0</td>\n",
       "      <td>False</td>\n",
       "      <td>1</td>\n",
       "      <td>What’s the answer to this question</td>\n",
       "      <td>An amount of water of 1.5kg is heated from 20c...</td>\n",
       "      <td>AskPhysics</td>\n",
       "    </tr>\n",
       "    <tr>\n",
       "      <th>1</th>\n",
       "      <td>ngqf8b</td>\n",
       "      <td>1621484039</td>\n",
       "      <td>0</td>\n",
       "      <td>False</td>\n",
       "      <td>1</td>\n",
       "      <td>Redirect EMF Rafiation</td>\n",
       "      <td>A portion of my living room is bombarded with ...</td>\n",
       "      <td>AskPhysics</td>\n",
       "    </tr>\n",
       "    <tr>\n",
       "      <th>2</th>\n",
       "      <td>ngpwpf</td>\n",
       "      <td>1621482473</td>\n",
       "      <td>0</td>\n",
       "      <td>False</td>\n",
       "      <td>1</td>\n",
       "      <td>Other states/phases of matter (solid, liquid, ...</td>\n",
       "      <td>Every time that I see discussion of plasma, it...</td>\n",
       "      <td>AskPhysics</td>\n",
       "    </tr>\n",
       "    <tr>\n",
       "      <th>3</th>\n",
       "      <td>ngosi3</td>\n",
       "      <td>1621479126</td>\n",
       "      <td>0</td>\n",
       "      <td>False</td>\n",
       "      <td>1</td>\n",
       "      <td>The mathematics of quantum field theory</td>\n",
       "      <td>Several branches of physics have a \"distinct\" ...</td>\n",
       "      <td>AskPhysics</td>\n",
       "    </tr>\n",
       "    <tr>\n",
       "      <th>4</th>\n",
       "      <td>ngonop</td>\n",
       "      <td>1621478732</td>\n",
       "      <td>0</td>\n",
       "      <td>False</td>\n",
       "      <td>1</td>\n",
       "      <td>With regards to recent \"UAP\"/\"UFO\" sightings (...</td>\n",
       "      <td>So, for reference and background information, ...</td>\n",
       "      <td>AskPhysics</td>\n",
       "    </tr>\n",
       "  </tbody>\n",
       "</table>\n",
       "</div>"
      ],
      "text/plain": [
       "       id  created_utc  num_comments  pinned  score  \\\n",
       "0  ngqojf   1621484843             0   False      1   \n",
       "1  ngqf8b   1621484039             0   False      1   \n",
       "2  ngpwpf   1621482473             0   False      1   \n",
       "3  ngosi3   1621479126             0   False      1   \n",
       "4  ngonop   1621478732             0   False      1   \n",
       "\n",
       "                                               title  \\\n",
       "0                 What’s the answer to this question   \n",
       "1                             Redirect EMF Rafiation   \n",
       "2  Other states/phases of matter (solid, liquid, ...   \n",
       "3            The mathematics of quantum field theory   \n",
       "4  With regards to recent \"UAP\"/\"UFO\" sightings (...   \n",
       "\n",
       "                                            selftext   subreddit  \n",
       "0  An amount of water of 1.5kg is heated from 20c...  AskPhysics  \n",
       "1  A portion of my living room is bombarded with ...  AskPhysics  \n",
       "2  Every time that I see discussion of plasma, it...  AskPhysics  \n",
       "3  Several branches of physics have a \"distinct\" ...  AskPhysics  \n",
       "4  So, for reference and background information, ...  AskPhysics  "
      ]
     },
     "execution_count": 22,
     "metadata": {},
     "output_type": "execute_result"
    }
   ],
   "source": [
    "df.head()"
   ]
  },
  {
   "cell_type": "code",
   "execution_count": 23,
   "metadata": {
    "ExecuteTime": {
     "end_time": "2021-05-21T16:49:23.396293Z",
     "start_time": "2021-05-21T16:49:23.383291Z"
    }
   },
   "outputs": [
    {
     "data": {
      "text/html": [
       "<div>\n",
       "<style scoped>\n",
       "    .dataframe tbody tr th:only-of-type {\n",
       "        vertical-align: middle;\n",
       "    }\n",
       "\n",
       "    .dataframe tbody tr th {\n",
       "        vertical-align: top;\n",
       "    }\n",
       "\n",
       "    .dataframe thead th {\n",
       "        text-align: right;\n",
       "    }\n",
       "</style>\n",
       "<table border=\"1\" class=\"dataframe\">\n",
       "  <thead>\n",
       "    <tr style=\"text-align: right;\">\n",
       "      <th></th>\n",
       "      <th>id</th>\n",
       "      <th>created_utc</th>\n",
       "      <th>num_comments</th>\n",
       "      <th>pinned</th>\n",
       "      <th>score</th>\n",
       "      <th>title</th>\n",
       "      <th>selftext</th>\n",
       "      <th>subreddit</th>\n",
       "    </tr>\n",
       "  </thead>\n",
       "  <tbody>\n",
       "    <tr>\n",
       "      <th>8693</th>\n",
       "      <td>i0szhp</td>\n",
       "      <td>1596139122</td>\n",
       "      <td>1</td>\n",
       "      <td>False</td>\n",
       "      <td>1</td>\n",
       "      <td>[POEM] \"On The Farm\" - R. S. Thomas</td>\n",
       "      <td>There was Dai Puw. He was no good.\\nThey put h...</td>\n",
       "      <td>Poetry</td>\n",
       "    </tr>\n",
       "    <tr>\n",
       "      <th>8694</th>\n",
       "      <td>i0ssmv</td>\n",
       "      <td>1596138456</td>\n",
       "      <td>0</td>\n",
       "      <td>False</td>\n",
       "      <td>1</td>\n",
       "      <td>[POEM] E.E. Cummings quote</td>\n",
       "      <td>To be nobody-but-yourself— in a world which is...</td>\n",
       "      <td>Poetry</td>\n",
       "    </tr>\n",
       "    <tr>\n",
       "      <th>8695</th>\n",
       "      <td>i0qqk2</td>\n",
       "      <td>1596131812</td>\n",
       "      <td>10</td>\n",
       "      <td>False</td>\n",
       "      <td>1</td>\n",
       "      <td>[POEM] Shoveling Snow with Buddha by Billy Col...</td>\n",
       "      <td>In the usual iconography of the temple or the ...</td>\n",
       "      <td>Poetry</td>\n",
       "    </tr>\n",
       "    <tr>\n",
       "      <th>8696</th>\n",
       "      <td>i0ocg6</td>\n",
       "      <td>1596123957</td>\n",
       "      <td>2</td>\n",
       "      <td>False</td>\n",
       "      <td>1</td>\n",
       "      <td>[POEM] \"Jamesian\" by Thom Gunn</td>\n",
       "      <td>Their relationship consisted  \\nIn discussing ...</td>\n",
       "      <td>Poetry</td>\n",
       "    </tr>\n",
       "    <tr>\n",
       "      <th>8697</th>\n",
       "      <td>i0nvl8</td>\n",
       "      <td>1596122380</td>\n",
       "      <td>15</td>\n",
       "      <td>False</td>\n",
       "      <td>1</td>\n",
       "      <td>[POEM] \"On the Necessity of Sadness\" - Mikael ...</td>\n",
       "      <td>Let me tell you about longing.\\n\\nLet me presu...</td>\n",
       "      <td>Poetry</td>\n",
       "    </tr>\n",
       "  </tbody>\n",
       "</table>\n",
       "</div>"
      ],
      "text/plain": [
       "          id  created_utc  num_comments  pinned  score  \\\n",
       "8693  i0szhp   1596139122             1   False      1   \n",
       "8694  i0ssmv   1596138456             0   False      1   \n",
       "8695  i0qqk2   1596131812            10   False      1   \n",
       "8696  i0ocg6   1596123957             2   False      1   \n",
       "8697  i0nvl8   1596122380            15   False      1   \n",
       "\n",
       "                                                  title  \\\n",
       "8693                [POEM] \"On The Farm\" - R. S. Thomas   \n",
       "8694                         [POEM] E.E. Cummings quote   \n",
       "8695  [POEM] Shoveling Snow with Buddha by Billy Col...   \n",
       "8696                     [POEM] \"Jamesian\" by Thom Gunn   \n",
       "8697  [POEM] \"On the Necessity of Sadness\" - Mikael ...   \n",
       "\n",
       "                                               selftext subreddit  \n",
       "8693  There was Dai Puw. He was no good.\\nThey put h...    Poetry  \n",
       "8694  To be nobody-but-yourself— in a world which is...    Poetry  \n",
       "8695  In the usual iconography of the temple or the ...    Poetry  \n",
       "8696  Their relationship consisted  \\nIn discussing ...    Poetry  \n",
       "8697  Let me tell you about longing.\\n\\nLet me presu...    Poetry  "
      ]
     },
     "execution_count": 23,
     "metadata": {},
     "output_type": "execute_result"
    }
   ],
   "source": [
    "df.tail()"
   ]
  },
  {
   "cell_type": "markdown",
   "metadata": {},
   "source": [
    "Information to drop before nlp:\n",
    "* title column, too informative\n",
    "* from 'selftext' column\n",
    "    * urls\n",
    "    * numbers (poems usually do not have numbers)\n",
    "    * punctuation, not interested, care more about word distinctions"
   ]
  },
  {
   "cell_type": "code",
   "execution_count": 24,
   "metadata": {
    "ExecuteTime": {
     "end_time": "2021-05-21T16:49:23.954606Z",
     "start_time": "2021-05-21T16:49:23.398293Z"
    }
   },
   "outputs": [],
   "source": [
    "# cleanup not added to pipeline as stem and lemmatize come afterwards and \n",
    "# would add a lot of time to modeling and grid searching / take too much\n",
    "# memory\n",
    "words_to_remove = ['physics', 'physicist']\n",
    "df['selftext'] = clean_text(df['selftext'], words_to_remove)"
   ]
  },
  {
   "cell_type": "markdown",
   "metadata": {},
   "source": [
    "## Exploratory Data Analysis"
   ]
  },
  {
   "cell_type": "code",
   "execution_count": 25,
   "metadata": {
    "ExecuteTime": {
     "end_time": "2021-05-21T16:49:23.986614Z",
     "start_time": "2021-05-21T16:49:23.955607Z"
    }
   },
   "outputs": [
    {
     "data": {
      "text/html": [
       "<div>\n",
       "<style scoped>\n",
       "    .dataframe tbody tr th:only-of-type {\n",
       "        vertical-align: middle;\n",
       "    }\n",
       "\n",
       "    .dataframe tbody tr th {\n",
       "        vertical-align: top;\n",
       "    }\n",
       "\n",
       "    .dataframe thead th {\n",
       "        text-align: right;\n",
       "    }\n",
       "</style>\n",
       "<table border=\"1\" class=\"dataframe\">\n",
       "  <thead>\n",
       "    <tr style=\"text-align: right;\">\n",
       "      <th></th>\n",
       "      <th>created_utc</th>\n",
       "      <th>num_comments</th>\n",
       "      <th>score</th>\n",
       "    </tr>\n",
       "  </thead>\n",
       "  <tbody>\n",
       "    <tr>\n",
       "      <th>count</th>\n",
       "      <td>8.698000e+03</td>\n",
       "      <td>8698.000000</td>\n",
       "      <td>8698.000000</td>\n",
       "    </tr>\n",
       "    <tr>\n",
       "      <th>mean</th>\n",
       "      <td>1.612636e+09</td>\n",
       "      <td>4.662566</td>\n",
       "      <td>2.389630</td>\n",
       "    </tr>\n",
       "    <tr>\n",
       "      <th>std</th>\n",
       "      <td>6.958321e+06</td>\n",
       "      <td>8.891594</td>\n",
       "      <td>17.170467</td>\n",
       "    </tr>\n",
       "    <tr>\n",
       "      <th>min</th>\n",
       "      <td>1.596122e+09</td>\n",
       "      <td>0.000000</td>\n",
       "      <td>0.000000</td>\n",
       "    </tr>\n",
       "    <tr>\n",
       "      <th>25%</th>\n",
       "      <td>1.608251e+09</td>\n",
       "      <td>0.000000</td>\n",
       "      <td>1.000000</td>\n",
       "    </tr>\n",
       "    <tr>\n",
       "      <th>50%</th>\n",
       "      <td>1.613969e+09</td>\n",
       "      <td>2.000000</td>\n",
       "      <td>1.000000</td>\n",
       "    </tr>\n",
       "    <tr>\n",
       "      <th>75%</th>\n",
       "      <td>1.618589e+09</td>\n",
       "      <td>5.000000</td>\n",
       "      <td>1.000000</td>\n",
       "    </tr>\n",
       "    <tr>\n",
       "      <th>max</th>\n",
       "      <td>1.621541e+09</td>\n",
       "      <td>216.000000</td>\n",
       "      <td>621.000000</td>\n",
       "    </tr>\n",
       "  </tbody>\n",
       "</table>\n",
       "</div>"
      ],
      "text/plain": [
       "        created_utc  num_comments        score\n",
       "count  8.698000e+03   8698.000000  8698.000000\n",
       "mean   1.612636e+09      4.662566     2.389630\n",
       "std    6.958321e+06      8.891594    17.170467\n",
       "min    1.596122e+09      0.000000     0.000000\n",
       "25%    1.608251e+09      0.000000     1.000000\n",
       "50%    1.613969e+09      2.000000     1.000000\n",
       "75%    1.618589e+09      5.000000     1.000000\n",
       "max    1.621541e+09    216.000000   621.000000"
      ]
     },
     "execution_count": 25,
     "metadata": {},
     "output_type": "execute_result"
    }
   ],
   "source": [
    "df.describe()"
   ]
  },
  {
   "cell_type": "markdown",
   "metadata": {},
   "source": [
    "**Length and Word Count of selftext Column**"
   ]
  },
  {
   "cell_type": "code",
   "execution_count": 26,
   "metadata": {
    "ExecuteTime": {
     "end_time": "2021-05-21T16:49:24.273490Z",
     "start_time": "2021-05-21T16:49:23.987614Z"
    }
   },
   "outputs": [
    {
     "data": {
      "image/png": "[encoded data removed]",
      "text/plain": [
       "<Figure size 576x432 with 1 Axes>"
      ]
     },
     "metadata": {
      "needs_background": "light"
     },
     "output_type": "display_data"
    }
   ],
   "source": [
    "df['selftext_length'] = [len(body) for body in df['selftext']]\n",
    "\n",
    "plt.figure(figsize=(8, 6))\n",
    "df['selftext_length'].hist(bins=150)\n",
    "plt.xlim(right=8_000);\n",
    "plt.title('Length of selftext', fontweight='bold', fontsize=16)\n",
    "plt.xlabel('Length (Characters)', fontsize=14)\n",
    "plt.ylabel('Frequency', fontsize=15);"
   ]
  },
  {
   "cell_type": "code",
   "execution_count": 27,
   "metadata": {
    "ExecuteTime": {
     "end_time": "2021-05-21T16:49:24.560555Z",
     "start_time": "2021-05-21T16:49:24.274492Z"
    }
   },
   "outputs": [
    {
     "data": {
      "image/png": "[encoded data removed]",
      "text/plain": [
       "<Figure size 576x432 with 1 Axes>"
      ]
     },
     "metadata": {
      "needs_background": "light"
     },
     "output_type": "display_data"
    }
   ],
   "source": [
    "df['selftext_word_count'] = [len(body.split()) for body in df['selftext']]\n",
    "\n",
    "plt.figure(figsize=(8, 6))\n",
    "df['selftext_word_count'].hist(bins=150)\n",
    "plt.xlim(right=800);\n",
    "plt.title('Word Count of selftext', fontweight='bold', fontsize=16)\n",
    "plt.xlabel('Word Count', fontsize=14)\n",
    "plt.ylabel('Frequency', fontsize=15);"
   ]
  },
  {
   "cell_type": "markdown",
   "metadata": {},
   "source": [
    "**Most Common Words**"
   ]
  },
  {
   "cell_type": "code",
   "execution_count": 28,
   "metadata": {
    "ExecuteTime": {
     "end_time": "2021-05-21T16:49:25.375539Z",
     "start_time": "2021-05-21T16:49:24.561555Z"
    }
   },
   "outputs": [],
   "source": [
    "cvec = CountVectorizer(stop_words='english')\n",
    "X_cvec = cvec.fit_transform(df['selftext'])\n",
    "cvec_df = pd.DataFrame(X_cvec.toarray(), columns=cvec.get_feature_names())"
   ]
  },
  {
   "cell_type": "code",
   "execution_count": 29,
   "metadata": {
    "ExecuteTime": {
     "end_time": "2021-05-21T16:49:26.169717Z",
     "start_time": "2021-05-21T16:49:25.376540Z"
    }
   },
   "outputs": [
    {
     "data": {
      "text/plain": [
       "aaabsolutely    1\n",
       "aaah            1\n",
       "aardvarks       1\n",
       "aarhus          2\n",
       "aaron           1\n",
       "               ..\n",
       "zvijezde        2\n",
       "zvijezdi        1\n",
       "zvjezdan        1\n",
       "zvon            1\n",
       "zwiebach        1\n",
       "Length: 36945, dtype: int64"
      ]
     },
     "execution_count": 29,
     "metadata": {},
     "output_type": "execute_result"
    }
   ],
   "source": [
    "cvec_df.sum()"
   ]
  },
  {
   "cell_type": "code",
   "execution_count": 30,
   "metadata": {
    "ExecuteTime": {
     "end_time": "2021-05-21T16:49:26.871338Z",
     "start_time": "2021-05-21T16:49:26.170717Z"
    }
   },
   "outputs": [
    {
     "data": {
      "image/png": "[encoded data removed]",
      "text/plain": [
       "<Figure size 864x432 with 1 Axes>"
      ]
     },
     "metadata": {
      "needs_background": "light"
     },
     "output_type": "display_data"
    }
   ],
   "source": [
    "plt.figure(figsize=(12, 6))\n",
    "cvec_df.sum().sort_values()[-30:].plot(kind='bar')\n",
    "plt.title('Most Common Words', fontweight='bold', fontsize=17)\n",
    "plt.xlabel('Word', fontsize=15)\n",
    "plt.ylabel('Frequency', fontsize=15)\n",
    "plt.tight_layout();"
   ]
  },
  {
   "cell_type": "code",
   "execution_count": 31,
   "metadata": {
    "ExecuteTime": {
     "end_time": "2021-05-21T16:49:29.954028Z",
     "start_time": "2021-05-21T16:49:26.872339Z"
    }
   },
   "outputs": [],
   "source": [
    "cvec_df['subreddit'] = df['subreddit']"
   ]
  },
  {
   "cell_type": "code",
   "execution_count": 32,
   "metadata": {
    "ExecuteTime": {
     "end_time": "2021-05-21T16:49:32.797664Z",
     "start_time": "2021-05-21T16:49:29.955029Z"
    }
   },
   "outputs": [
    {
     "data": {
      "text/plain": [
       "aaabsolutely    0\n",
       "aaah            1\n",
       "aardvarks       1\n",
       "aarhus          2\n",
       "aaron           1\n",
       "               ..\n",
       "zvijezde        2\n",
       "zvijezdi        1\n",
       "zvjezdan        1\n",
       "zvon            1\n",
       "zwiebach        0\n",
       "Length: 36945, dtype: object"
      ]
     },
     "execution_count": 32,
     "metadata": {},
     "output_type": "execute_result"
    }
   ],
   "source": [
    "cvec_df[cvec_df['subreddit'] == 'Poetry'].sum()"
   ]
  },
  {
   "cell_type": "markdown",
   "metadata": {},
   "source": [
    "## Classification Modeling\n",
    "\n",
    "Only interested in the words that make up the body of the submission."
   ]
  },
  {
   "cell_type": "markdown",
   "metadata": {},
   "source": [
    "### Data Dictionary\n",
    "\n",
    "|Feature|Type|Dataset|Description|\n",
    "|---|---|---|---|\n",
    "|**selftext**|*object*|reddit|Body of the submission, text, which will be vectorized into many columns.| \n",
    "|**subreddit**|*object*|reddit|Name of subreddit where submission was posted.| "
   ]
  },
  {
   "cell_type": "code",
   "execution_count": 33,
   "metadata": {
    "ExecuteTime": {
     "end_time": "2021-05-21T16:49:32.813668Z",
     "start_time": "2021-05-21T16:49:32.798664Z"
    }
   },
   "outputs": [],
   "source": [
    "target = 'subreddit'\n",
    "\n",
    "X = df['selftext']\n",
    "y = df[target].map({'AskPhysics': 0, 'Poetry': 1})"
   ]
  },
  {
   "cell_type": "code",
   "execution_count": 34,
   "metadata": {
    "ExecuteTime": {
     "end_time": "2021-05-21T16:50:00.731686Z",
     "start_time": "2021-05-21T16:49:32.814668Z"
    }
   },
   "outputs": [],
   "source": [
    "# test both stemming and Lemmatisation\n",
    "# separated because if included in gridsearch, takes forever\n",
    "X_lem = lemmatize_X(X)\n",
    "X_stem = stem_X(X)"
   ]
  },
  {
   "cell_type": "markdown",
   "metadata": {},
   "source": [
    "**Baseline**"
   ]
  },
  {
   "cell_type": "code",
   "execution_count": 35,
   "metadata": {
    "ExecuteTime": {
     "end_time": "2021-05-21T16:50:00.747353Z",
     "start_time": "2021-05-21T16:50:00.732686Z"
    }
   },
   "outputs": [
    {
     "data": {
      "text/plain": [
       "0.5033340997930559"
      ]
     },
     "execution_count": 35,
     "metadata": {},
     "output_type": "execute_result"
    }
   ],
   "source": [
    "y.value_counts(normalize=True).max() "
   ]
  },
  {
   "cell_type": "markdown",
   "metadata": {},
   "source": [
    "The baseline for model would be to predict that all submissions were posted on '/r/AskPhysics'. This model would have an accuracy score of ~.503."
   ]
  },
  {
   "cell_type": "markdown",
   "metadata": {},
   "source": [
    "**Train Test Split Data**"
   ]
  },
  {
   "cell_type": "code",
   "execution_count": 36,
   "metadata": {
    "ExecuteTime": {
     "end_time": "2021-05-21T16:50:00.777854Z",
     "start_time": "2021-05-21T16:50:00.748354Z"
    }
   },
   "outputs": [],
   "source": [
    "# test both stemming and Lemmatisation\n",
    "X_train_lem, X_test_lem, y_train_lem, y_test_lem = \\\n",
    "train_test_split(X_lem, y,\n",
    "                 stratify=y,\n",
    "                 test_size=0.2,\n",
    "                 random_state=73)\n",
    "\n",
    "X_train_stem, X_test_stem, y_train_stem, y_test_stem = \\\n",
    "train_test_split(X_stem, y,\n",
    "                 stratify=y,\n",
    "                 test_size=0.2,\n",
    "                 random_state=73)"
   ]
  },
  {
   "cell_type": "markdown",
   "metadata": {},
   "source": [
    "**DecisionTreeClassifier**"
   ]
  },
  {
   "cell_type": "code",
   "execution_count": 37,
   "metadata": {
    "ExecuteTime": {
     "end_time": "2021-05-21T16:50:12.383256Z",
     "start_time": "2021-05-21T16:50:00.778855Z"
    },
    "scrolled": true
   },
   "outputs": [
    {
     "name": "stdout",
     "output_type": "stream",
     "text": [
      "Training Score:  0.8866053463638977\n",
      "Cross Val Score:  0.8386033242371621\n",
      "Test Score:  0.8718390804597701\n",
      "Best Params:  {'tfidf__max_df': 0.4, 'tfidf__max_features': 40, 'tfidf__norm': 'l2', 'tree__max_depth': 15}\n"
     ]
    }
   ],
   "source": [
    "grid = {\n",
    "    # 'tfidf__ngram_range': [(1, 1), (1, 2)],\n",
    "    'tfidf__max_features': [40],\n",
    "    'tfidf__max_df': [0.40, 0.50],\n",
    "    'tfidf__norm': ['l2', 'l1'],\n",
    "    'tree__max_depth': [5, 10, 15]\n",
    "}\n",
    "gs_dt_lem = GridSearchCV(pipe_tree, param_grid=grid, n_jobs=-1, cv=10)\n",
    "gs_dt_lem.fit(X_train_lem, y_train_lem)\n",
    "print_gs(gs_dt_lem, X_train_lem, X_test_lem, y_train_lem, y_test_lem)"
   ]
  },
  {
   "cell_type": "code",
   "execution_count": 38,
   "metadata": {
    "ExecuteTime": {
     "end_time": "2021-05-21T16:50:18.471371Z",
     "start_time": "2021-05-21T16:50:12.384256Z"
    }
   },
   "outputs": [
    {
     "name": "stdout",
     "output_type": "stream",
     "text": [
      "Training Score:  0.8437769473986778\n",
      "Cross Val Score:  0.8469370710328288\n",
      "Test Score:  0.8373563218390805\n",
      "Best Params:  {'tfidf__max_df': 0.62, 'tfidf__max_features': 40, 'tfidf__norm': 'l2', 'tree__class_weight': 'balanced', 'tree__max_depth': 13}\n"
     ]
    }
   ],
   "source": [
    "grid = {\n",
    "    # 'tfidf__ngram_range': [(1, 1), (1, 2)],\n",
    "    'tfidf__max_features': [40],\n",
    "    'tfidf__max_df': [0.61, 0.62],\n",
    "    'tfidf__norm': ['l2', 'l1'],\n",
    "    'tree__max_depth': [13],  # [12, 13, 14]\n",
    "    'tree__class_weight': [None, 'balanced']\n",
    "}\n",
    "gs_dt_stem = GridSearchCV(pipe_tree, param_grid=grid, n_jobs=-1, cv=10)\n",
    "gs_dt_stem.fit(X_train_stem, y_train_stem)\n",
    "print_gs(gs_dt_stem, X_train_stem, X_test_stem, y_train_stem, y_test_stem)"
   ]
  },
  {
   "cell_type": "markdown",
   "metadata": {},
   "source": [
    "The lemmatized text model seems to always be overfit as the training score is much greater than the cross val score and as the max_depth parameter also chooses the highest available value. On the other hand the stemmed text model settles at a max_depth of 13 while also not being overfit as the training score is below the cross val score. However, the test score is much lower than both the training and cross val score, which may be due to a bad test sample."
   ]
  },
  {
   "cell_type": "markdown",
   "metadata": {},
   "source": [
    "**RandomForestClassifier**"
   ]
  },
  {
   "cell_type": "code",
   "execution_count": 39,
   "metadata": {
    "ExecuteTime": {
     "end_time": "2021-05-21T16:50:29.638133Z",
     "start_time": "2021-05-21T16:50:18.472373Z"
    }
   },
   "outputs": [
    {
     "name": "stdout",
     "output_type": "stream",
     "text": [
      "Training Score:  0.8696464501293475\n",
      "Cross Val Score:  0.854413090217481\n",
      "Test Score:  0.8637931034482759\n",
      "Best Params:  {'rf__class_weight': 'balanced', 'rf__max_depth': 10, 'tfidf__max_df': 0.64, 'tfidf__max_features': 40, 'tfidf__norm': 'l2'}\n"
     ]
    }
   ],
   "source": [
    "grid = {\n",
    "    'tfidf__max_features': [40],\n",
    "    'tfidf__max_df': [0.64, 0.65],\n",
    "    'tfidf__norm': ['l2', 'l1'],\n",
    "    'rf__max_depth': [10],  # [24]\n",
    "    'rf__class_weight': [None, 'balanced']\n",
    "}\n",
    "gs_rf_lem = GridSearchCV(pipe_rf, param_grid=grid, n_jobs=-1, cv=10)\n",
    "gs_rf_lem.fit(X_train_lem, y_train_lem)\n",
    "print_gs(gs_rf_lem, X_train_lem, X_test_lem, y_train_lem, y_test_lem)"
   ]
  },
  {
   "cell_type": "code",
   "execution_count": 40,
   "metadata": {
    "ExecuteTime": {
     "end_time": "2021-05-21T16:50:55.425218Z",
     "start_time": "2021-05-21T16:50:29.639133Z"
    }
   },
   "outputs": [
    {
     "name": "stdout",
     "output_type": "stream",
     "text": [
      "Training Score:  0.8661971830985915\n",
      "Cross Val Score:  0.87726101877119\n",
      "Test Score:  0.8580459770114942\n",
      "Best Params:  {'rf__class_weight': 'balanced', 'rf__max_depth': 24, 'tfidf__max_df': 0.6, 'tfidf__max_features': 40, 'tfidf__norm': 'l1'}\n"
     ]
    }
   ],
   "source": [
    "grid = {\n",
    "    'tfidf__max_features': [40],\n",
    "    'tfidf__max_df': [0.60],\n",
    "    'tfidf__norm': ['l2', 'l1'],\n",
    "    'rf__max_depth': [24, 25, 26],\n",
    "    'rf__class_weight': [None, 'balanced']\n",
    "}\n",
    "gs_rf_stem = GridSearchCV(pipe_rf, param_grid=grid, n_jobs=-1, cv=10)\n",
    "gs_rf_stem.fit(X_train_stem, y_train_stem)\n",
    "print_gs(gs_rf_stem, X_train_stem, X_test_stem, y_train_stem, y_test_stem)"
   ]
  },
  {
   "cell_type": "markdown",
   "metadata": {},
   "source": [
    "There is a similar pattern occurs as the lemmatized text model seems to be overfit as training score is greater than the cross val score while for the stemmed text model the training score is less than the cross val score. It seems it would be best to move forward using the stemmer."
   ]
  },
  {
   "cell_type": "code",
   "execution_count": 41,
   "metadata": {
    "ExecuteTime": {
     "end_time": "2021-05-21T16:50:55.930371Z",
     "start_time": "2021-05-21T16:50:55.426220Z"
    }
   },
   "outputs": [
    {
     "data": {
      "image/png": "[encoded data removed]",
      "text/plain": [
       "<Figure size 936x432 with 4 Axes>"
      ]
     },
     "metadata": {
      "needs_background": "light"
     },
     "output_type": "display_data"
    }
   ],
   "source": [
    "fig, ax = plt.subplots(1, 2, figsize=(13, 6))\n",
    "\n",
    "metrics.plot_confusion_matrix(gs_rf_lem, X_test_lem, y_test_lem, ax=ax[0],\n",
    "                              display_labels=['Poetry', 'AskPhysics'])\n",
    "ax[0].set_title('Random Forest Lemmatizer', \n",
    "                loc='left', fontweight='bold', fontsize=17)\n",
    "ax[0].set_xlabel('Predicted', fontsize=14)\n",
    "ax[0].set_ylabel('Actual', fontsize=15)\n",
    "\n",
    "metrics.plot_confusion_matrix(gs_rf_stem, X_test_stem, y_test_stem, ax=ax[1],\n",
    "                              display_labels=['Poetry', 'AskPhysics'])\n",
    "ax[1].set_title('Random Forest Stemmer', \n",
    "          loc='left', fontweight='bold', fontsize=17)\n",
    "ax[1].set_xlabel('Predicted', fontsize=14)\n",
    "ax[1].set_ylabel('Actual', fontsize=15)\n",
    "plt.tight_layout();"
   ]
  },
  {
   "cell_type": "markdown",
   "metadata": {},
   "source": [
    "**Interpretation:**\n",
    "\n",
    "The two figures above show the confusion matrix plots for the random forest classifier model. The left figure displays the results for a model that was fit to a lemmatized dataset while the right figure shows the results for a model that was fit to a stemmed dataset. There are less Type I and Type II errors on the stemmed data model, therefore, it seems best to move forward with using stemming in this instance."
   ]
  },
  {
   "cell_type": "markdown",
   "metadata": {},
   "source": [
    "**VotingClassifier**"
   ]
  },
  {
   "cell_type": "code",
   "execution_count": 42,
   "metadata": {
    "ExecuteTime": {
     "end_time": "2021-05-21T16:51:38.587008Z",
     "start_time": "2021-05-21T16:50:55.931372Z"
    }
   },
   "outputs": [
    {
     "name": "stdout",
     "output_type": "stream",
     "text": [
      "Training Score:  0.933314170738718\n",
      "Cross Val Score:  0.946104886090384\n",
      "Test Score:  0.9304597701149425\n",
      "Best Params:  {'ada__ada__learning_rate': 1, 'ada__ada__n_estimators': 100, 'gb__gb__max_depth': 3, 'gb__gb__max_features': 'sqrt', 'rf__rf__max_depth': 4, 'rf__tfidf__max_df': 0.6, 'rf__tfidf__max_features': 50, 'rf__tfidf__norm': 'l1'}\n"
     ]
    }
   ],
   "source": [
    "vote = VotingClassifier([\n",
    "    ('ada', pipe_ada),\n",
    "    ('gb', pipe_gb),\n",
    "    ('rf', pipe_rf)\n",
    "])\n",
    "\n",
    "grid = {\n",
    "    'ada__ada__n_estimators': [50, 100],\n",
    "    'ada__ada__learning_rate': [1],  # [0.1, 0.2, 0.3],\n",
    "    'gb__gb__max_features': ['sqrt'],  # ['sqrt', 'log2'],\n",
    "    'gb__gb__max_depth': [3],  # [1, 2, 3],\n",
    "    'rf__tfidf__max_features': [50],\n",
    "    'rf__tfidf__max_df': [0.60],\n",
    "    'rf__tfidf__norm': ['l2', 'l1'],\n",
    "    'rf__rf__max_depth': [3, 4, 5]\n",
    "}\n",
    "\n",
    "gs_vote = GridSearchCV(vote, param_grid=grid, n_jobs=-1)\n",
    "gs_vote.fit(X_train_stem, y_train_stem)\n",
    "print_gs(gs_vote, X_train_stem, X_test_stem, y_train_stem, y_test_stem)"
   ]
  },
  {
   "cell_type": "code",
   "execution_count": 43,
   "metadata": {
    "ExecuteTime": {
     "end_time": "2021-05-21T16:51:39.146135Z",
     "start_time": "2021-05-21T16:51:38.588010Z"
    }
   },
   "outputs": [
    {
     "data": {
      "image/png": "[encoded data removed]",
      "text/plain": [
       "<Figure size 576x576 with 2 Axes>"
      ]
     },
     "metadata": {
      "needs_background": "light"
     },
     "output_type": "display_data"
    }
   ],
   "source": [
    "fig, ax = plt.subplots(1, 1, figsize=(8, 8))\n",
    "metrics.plot_confusion_matrix(gs_vote, X_test_stem, y_test_stem, ax=ax,\n",
    "                              display_labels=['Poetry', 'AskPhysics'])\n",
    "ax.set_title('Voting Classifier Confusion Matrix', \n",
    "                loc='left', fontweight='bold', fontsize=17)\n",
    "ax.set_xlabel('Predicted', fontsize=14)\n",
    "ax.set_ylabel('Actual', fontsize=15)\n",
    "plt.tight_layout();\n",
    "fig.savefig('./graphics/voting_classifier_confusion_matrix.png')"
   ]
  },
  {
   "cell_type": "markdown",
   "metadata": {},
   "source": [
    "**Interpretation**\n",
    "\n",
    "The above figure is the confusion matrix for the Voting Classifier ensemble model. The matrix shows that overall the model is good at predicting AskPhysics submissions, however, the model is has substantially worse at predicting poetry. This is problematic as some words may be more strongly associated with poetry and therefore emotions than should be."
   ]
  },
  {
   "cell_type": "markdown",
   "metadata": {},
   "source": [
    "## Evaluating Features"
   ]
  },
  {
   "cell_type": "code",
   "execution_count": 44,
   "metadata": {
    "ExecuteTime": {
     "end_time": "2021-05-21T16:51:39.210153Z",
     "start_time": "2021-05-21T16:51:39.147135Z"
    }
   },
   "outputs": [],
   "source": [
    "importance_dfs = []\n",
    "for estimator, name in zip(gs_vote.best_estimator_.estimators_, \n",
    "                           ['ada', 'gb', 'rf']):\n",
    "    importance_dfs.append(pd.DataFrame({'importance': \n",
    "                                        estimator.named_steps[name]\\\n",
    "                                        .feature_importances_},\n",
    "                             index=estimator.named_steps['tfidf']\\\n",
    "                                       .get_feature_names()))"
   ]
  },
  {
   "cell_type": "code",
   "execution_count": 45,
   "metadata": {
    "ExecuteTime": {
     "end_time": "2021-05-21T16:51:39.449647Z",
     "start_time": "2021-05-21T16:51:39.211154Z"
    }
   },
   "outputs": [
    {
     "data": {
      "image/png": "[encoded data removed]",
      "text/plain": [
       "<Figure size 1080x432 with 1 Axes>"
      ]
     },
     "metadata": {
      "needs_background": "light"
     },
     "output_type": "display_data"
    }
   ],
   "source": [
    "plt.figure(figsize=(15, 6))\n",
    "importance_dfs[0]['importance'].sort_values()[-25:].plot(kind='bar')\n",
    "plt.title('Ada Boost Word Importance', \n",
    "          fontweight='bold', fontsize='24', loc='left')\n",
    "plt.xlabel('Word', fontsize=18)\n",
    "plt.ylabel('Importance', fontsize=18)\n",
    "plt.tight_layout();"
   ]
  },
  {
   "cell_type": "markdown",
   "metadata": {},
   "source": [
    "**Interpretation**\n",
    "\n",
    "The above figure is a barchart of the top 25 words, by importance used to classify the submission subreddit within the ada boost model. Compared to the other models the importances seem much more uniform."
   ]
  },
  {
   "cell_type": "code",
   "execution_count": 46,
   "metadata": {
    "ExecuteTime": {
     "end_time": "2021-05-21T16:51:39.753715Z",
     "start_time": "2021-05-21T16:51:39.450647Z"
    }
   },
   "outputs": [
    {
     "data": {
      "image/png": "[encoded data removed]",
      "text/plain": [
       "<Figure size 1080x432 with 1 Axes>"
      ]
     },
     "metadata": {
      "needs_background": "light"
     },
     "output_type": "display_data"
    }
   ],
   "source": [
    "plt.figure(figsize=(15, 6))\n",
    "importance_dfs[1]['importance'].sort_values()[-25:].plot(kind='bar')\n",
    "plt.title('Gradient Boosting Word Importance', \n",
    "          fontweight='bold', fontsize='24', loc='left')\n",
    "plt.xlabel('Word', fontsize=18)\n",
    "plt.ylabel('Importance', fontsize=18)\n",
    "plt.tight_layout();\n",
    "plt.savefig('./graphics/gradient_boosting_feature_importance.png')"
   ]
  },
  {
   "cell_type": "markdown",
   "metadata": {},
   "source": [
    "**Interpretation:**\n",
    "    \n",
    "The above figure is a barchart of the top 25 words, by importance used to classify the submission subreddit within the gradient boosting model. Words seem to have a heavy skew of importance, especially the world life."
   ]
  },
  {
   "cell_type": "code",
   "execution_count": 47,
   "metadata": {
    "ExecuteTime": {
     "end_time": "2021-05-21T16:51:40.057782Z",
     "start_time": "2021-05-21T16:51:39.754716Z"
    },
    "scrolled": false
   },
   "outputs": [
    {
     "data": {
      "image/png": "[encoded data removed]",
      "text/plain": [
       "<Figure size 1080x432 with 1 Axes>"
      ]
     },
     "metadata": {
      "needs_background": "light"
     },
     "output_type": "display_data"
    }
   ],
   "source": [
    "plt.figure(figsize=(15, 6))\n",
    "importance_dfs[2]['importance'].sort_values()[-25:].plot(kind='bar')\n",
    "plt.title('Random Forest Word Importance', \n",
    "          fontweight='bold', fontsize='24', loc='left')\n",
    "plt.xlabel('Word', fontsize=18)\n",
    "plt.ylabel('Importance', fontsize=18)\n",
    "plt.tight_layout();\n",
    "plt.savefig('./graphics/random_forest_feature_importance.png')"
   ]
  },
  {
   "cell_type": "markdown",
   "metadata": {},
   "source": [
    "**Interpretation:**\n",
    "    \n",
    "The above figure is a barchart of the top 25 words, by importance used to classify the submission subreddit within the random forest model. Words seem to have an even heavy skew of importance although each model seems to have some variation in the words that are important"
   ]
  },
  {
   "cell_type": "markdown",
   "metadata": {},
   "source": [
    "**Key Issue**\n",
    "\n",
    "Overall all graphs show a a relatively small list of words that carry a significant importance within the model. The lack of words points to a need to use many features if we want many words as a result. This methodology of getting a list of emotive words does not scale well with our modeling as we do not want to overburden the models with features."
   ]
  },
  {
   "cell_type": "markdown",
   "metadata": {},
   "source": [
    "## Results & Conclusion"
   ]
  },
  {
   "cell_type": "markdown",
   "metadata": {},
   "source": [
    "The Voting Classifier ensemble model best predicted the subreddit of the submission based on the words within the body of the submission, scoring ~0.06 better on mean accuracy than the closest model, random forest classifier. The training score was below the cross val score, which may mean the model is not overfit, but the fact that the training score is is consistently lower than the cross val score is odd. There may be unaccounted for leakage occurring.\n",
    "\n",
    "Overall the score was much better than the ~0.50 mean accuracy of the baseline and implies that there is a clear separation between the wording in submissions in /r/poetry and /r/AskPhysics, as expected. However, even with a well scoring model compiling a list of meaningful words is still difficult. Using feature importance we are still very limited in the amount of words that we can select as more features do not mean a better model. Additionally, the model performed better on unigrams and therefore means getting a phrase of words is difficult. Only selecting single words seems to remove all context.\n",
    "\n",
    "If we were to continue with classification models. Next steps could include expanding our base dataset to include many more subreddits such as /r/history, /r/mathematics, /r/askscience, and other science subreddits which contain largely text submissions. Another step would be to build the classification models while rotating features and selecting the high scoring models to pull features from, however, it may be best to search for other modeling solutions due to the contradictory need to reduce model features and the desire to create a large and robust library of emotive words."
   ]
  }
 ],
 "metadata": {
  "kernelspec": {
   "display_name": "Python 3",
   "language": "python",
   "name": "python3"
  },
  "language_info": {
   "codemirror_mode": {
    "name": "ipython",
    "version": 3
   },
   "file_extension": ".py",
   "mimetype": "text/x-python",
   "name": "python",
   "nbconvert_exporter": "python",
   "pygments_lexer": "ipython3",
   "version": "3.8.5"
  }
 },
 "nbformat": 4,
 "nbformat_minor": 4
}
